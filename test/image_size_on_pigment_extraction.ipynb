{
 "cells": [
  {
   "attachments": {},
   "cell_type": "markdown",
   "metadata": {},
   "source": [
    "This is a notebook to see the effect of image size on the dilation of vessel segmetnation for pigmentation extraction as final step of the pipeline"
   ]
  },
  {
   "cell_type": "code",
   "execution_count": 1,
   "metadata": {},
   "outputs": [],
   "source": [
    "import sys\n",
    "sys.path.insert(0, '../src/')\n",
    "\n",
    "import extract_pigmentation as ep\n",
    "import config\n",
    "import pandas as pd\n",
    "from PIL import Image\n",
    "import numpy as np"
   ]
  },
  {
   "cell_type": "code",
   "execution_count": 2,
   "metadata": {},
   "outputs": [],
   "source": [
    "def resize_mask(mask, shape):\n",
    "    mask_im = Image.fromarray(mask)\n",
    "    return mask_im.resize(shape)"
   ]
  },
  {
   "cell_type": "code",
   "execution_count": 5,
   "metadata": {},
   "outputs": [
    {
     "ename": "FileNotFoundError",
     "evalue": "[Errno 2] No such file or directory: '/data/anand/AutoMorph_data/test/images/1000323_21016_0_0.png'",
     "output_type": "error",
     "traceback": [
      "\u001b[0;31m---------------------------------------------------------------------------\u001b[0m",
      "\u001b[0;31mFileNotFoundError\u001b[0m                         Traceback (most recent call last)",
      "\u001b[1;32m/data/anand/retinal-pigmentation-score/test/image_size_on_pigment_extraction.ipynb Cell 4\u001b[0m in \u001b[0;36m<cell line: 16>\u001b[0;34m()\u001b[0m\n\u001b[1;32m     <a href='vscode-notebook-cell://ssh-remote%2B10.158.62.101/data/anand/retinal-pigmentation-score/test/image_size_on_pigment_extraction.ipynb#W3sdnNjb2RlLXJlbW90ZQ%3D%3D?line=20'>21</a>\u001b[0m f \u001b[39m=\u001b[39m im_pth\u001b[39m.\u001b[39msplit(\u001b[39m'\u001b[39m\u001b[39m/\u001b[39m\u001b[39m'\u001b[39m)[\u001b[39m-\u001b[39m\u001b[39m1\u001b[39m]\n\u001b[1;32m     <a href='vscode-notebook-cell://ssh-remote%2B10.158.62.101/data/anand/retinal-pigmentation-score/test/image_size_on_pigment_extraction.ipynb#W3sdnNjb2RlLXJlbW90ZQ%3D%3D?line=21'>22</a>\u001b[0m im_pth \u001b[39m=\u001b[39m im_dir \u001b[39m+\u001b[39m  f\n\u001b[0;32m---> <a href='vscode-notebook-cell://ssh-remote%2B10.158.62.101/data/anand/retinal-pigmentation-score/test/image_size_on_pigment_extraction.ipynb#W3sdnNjb2RlLXJlbW90ZQ%3D%3D?line=23'>24</a>\u001b[0m im \u001b[39m=\u001b[39m Image\u001b[39m.\u001b[39;49mopen(im_pth)\n\u001b[1;32m     <a href='vscode-notebook-cell://ssh-remote%2B10.158.62.101/data/anand/retinal-pigmentation-score/test/image_size_on_pigment_extraction.ipynb#W3sdnNjb2RlLXJlbW90ZQ%3D%3D?line=24'>25</a>\u001b[0m cropped_im \u001b[39m=\u001b[39m ep\u001b[39m.\u001b[39mcrop_img(row\u001b[39m.\u001b[39mcentre_w, row\u001b[39m.\u001b[39mcentre_h, row\u001b[39m.\u001b[39mradius, im)\n\u001b[1;32m     <a href='vscode-notebook-cell://ssh-remote%2B10.158.62.101/data/anand/retinal-pigmentation-score/test/image_size_on_pigment_extraction.ipynb#W3sdnNjb2RlLXJlbW90ZQ%3D%3D?line=25'>26</a>\u001b[0m base \u001b[39m=\u001b[39m np\u001b[39m.\u001b[39marray(cropped_im\u001b[39m.\u001b[39msize)\n",
      "File \u001b[0;32m~/miniconda3/envs/dev/lib/python3.9/site-packages/PIL/Image.py:3068\u001b[0m, in \u001b[0;36mopen\u001b[0;34m(fp, mode, formats)\u001b[0m\n\u001b[1;32m   3065\u001b[0m     filename \u001b[39m=\u001b[39m fp\n\u001b[1;32m   3067\u001b[0m \u001b[39mif\u001b[39;00m filename:\n\u001b[0;32m-> 3068\u001b[0m     fp \u001b[39m=\u001b[39m builtins\u001b[39m.\u001b[39;49mopen(filename, \u001b[39m\"\u001b[39;49m\u001b[39mrb\u001b[39;49m\u001b[39m\"\u001b[39;49m)\n\u001b[1;32m   3069\u001b[0m     exclusive_fp \u001b[39m=\u001b[39m \u001b[39mTrue\u001b[39;00m\n\u001b[1;32m   3071\u001b[0m \u001b[39mtry\u001b[39;00m:\n",
      "\u001b[0;31mFileNotFoundError\u001b[0m: [Errno 2] No such file or directory: '/data/anand/AutoMorph_data/test/images/1000323_21016_0_0.png'"
     ]
    }
   ],
   "source": [
    "\n",
    "config.results_dir = '/data/anand/Automorph_data/test/results/'\n",
    "im_dir = '/data/anand/AutoMorph_data/test/images/'\n",
    "\n",
    "crop_csv = pd.read_csv(config.results_dir+ \"M1/Good_quality/image_list.csv\")\n",
    "vp = config.results_dir + \"M2/binary_vessel/raw_binary/\"\n",
    "dp = config.results_dir + \"M2/optic_disc_cup/raw/\"\n",
    "out_csv = config.results_dir  + 'retinal_background_lab_values.csv'\n",
    "\n",
    "f_list = []\n",
    "L = []\n",
    "a = []\n",
    "b = []\n",
    "\n",
    "#native resolution 2464, 1632\n",
    "\n",
    "for _,row in crop_csv.iterrows():\n",
    "\n",
    "\n",
    "    if _ == 6: \n",
    "        im_pth = row.Name\n",
    "        f = im_pth.split('/')[-1]\n",
    "        im_pth = im_dir +  f\n",
    "\n",
    "        im = Image.open(im_pth)\n",
    "        cropped_im = ep.crop_img(row.centre_w, row.centre_h, row.radius, im)\n",
    "        base = np.array(cropped_im.size)\n",
    "        shape_arr = [ base, base*2, base*0.5,\n",
    "                     np.array((base[0]*2, base[1])),   np.array((base[0], base[1]*2)), \n",
    "                     np.array((base[0]*0.5, base[1])), np.array((base[0], base[1]*0.5))]\n",
    "\n",
    "        mask_l = []\n",
    "        im_l = []\n",
    "        for shape in shape_arr:\n",
    "\n",
    "            # reshape to int\n",
    "            shape = shape.astype(int)\n",
    "\n",
    "            resize_im = cropped_im.resize(shape)\n",
    "            masks = ep.get_masks(vp+f, dp+f)\n",
    "            masks = [np.array(resize_mask(x, shape)) for x in masks]\n",
    "    \n",
    "            inv_mask = ep.get_inverted_masks(masks, np.array(resize_im))\n",
    "            mask_l.append(inv_mask)\n",
    "            im_l.append(resize_im)\n",
    "    \n",
    "        # plot the images\n",
    "        plot_with_mask(im_l, mask_l)\n",
    "        break"
   ]
  },
  {
   "cell_type": "code",
   "execution_count": 13,
   "metadata": {},
   "outputs": [],
   "source": [
    "import matplotlib.pyplot as plt\n",
    "\n",
    "def plot_with_mask(im_l, mask_l):\n",
    "\n",
    "    fig, axs = plt.subplots(2,4,figsize=(30,20))\n",
    "    for ax, im, mask in zip(axs.ravel(), im_l, mask_l):\n",
    "        ax.imshow(np.array(im))\n",
    "        ax.imshow(mask, alpha=0.14)\n",
    "        ax.set_title(\"shape {}\".format(mask.shape))\n",
    "\n",
    "    plt.axis('off')\n",
    "    plt.show()\n",
    "\n",
    "#plot_with_mask(im_l, mask_l)"
   ]
  }
 ],
 "metadata": {
  "kernelspec": {
   "display_name": "dev",
   "language": "python",
   "name": "python3"
  },
  "language_info": {
   "codemirror_mode": {
    "name": "ipython",
    "version": 3
   },
   "file_extension": ".py",
   "mimetype": "text/x-python",
   "name": "python",
   "nbconvert_exporter": "python",
   "pygments_lexer": "ipython3",
   "version": "3.9.12 (main, Apr  5 2022, 06:56:58) \n[GCC 7.5.0]"
  },
  "orig_nbformat": 4,
  "vscode": {
   "interpreter": {
    "hash": "bed1338d076149d6782b9bfe25d2386943d68f9f6ada7a0bc698506755000919"
   }
  }
 },
 "nbformat": 4,
 "nbformat_minor": 2
}
